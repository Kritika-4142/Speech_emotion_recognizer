{
 "cells": [
  {
   "cell_type": "code",
   "execution_count": 33,
   "metadata": {},
   "outputs": [],
   "source": [
    "from flask import Flask, request, jsonify, render_template\r\n",
    "import random\r\n",
    "from tensorflow.keras.models import load_model\r\n",
    "import numpy as np\r\n",
    "import librosa\r\n",
    "import pandas as pd\r\n",
    "from sklearn.preprocessing import OneHotEncoder"
   ]
  },
  {
   "cell_type": "code",
   "execution_count": 34,
   "metadata": {},
   "outputs": [],
   "source": [
    "app = Flask(__name__, template_folder='template', static_folder='static')\r\n",
    "\r\n",
    "model=load_model(r'C:\\Users\\This PC\\Downloads\\SER\\model.h5')"
   ]
  },
  {
   "cell_type": "code",
   "execution_count": 35,
   "metadata": {},
   "outputs": [],
   "source": [
    "@app.route('/')\r\n",
    "def home():\r\n",
    "    return render_template('index.html')"
   ]
  },
  {
   "cell_type": "code",
   "execution_count": 36,
   "metadata": {},
   "outputs": [],
   "source": [
    "@app.route('/predict_',methods=['POST'])\r\n",
    "def predict_():\r\n",
    "\r\n",
    "    # get file from POST request and save it\r\n",
    "    audio_file = request.files[\"file\"]\r\n",
    "    file_name = str(random.randint(0, 100000))\r\n",
    "    audio_file.save(file_name)\r\n",
    "\r\n",
    "    Features = pd.read_csv(r'C:\\Users\\This PC\\Downloads\\SER\\features.csv')\r\n",
    "    Y = Features['labels'].values\r\n",
    "    encoder = OneHotEncoder()\r\n",
    "    Y = encoder.fit_transform(np.array(Y).reshape(-1,1)).toarray()\r\n",
    "\r\n",
    "    X, sample_rate = librosa.load(file_name, res_type='kaiser_fast',duration=2.5,sr=22050*2,offset=0.5)\r\n",
    "    sample_rate = np.array(sample_rate)\r\n",
    "    mfccs = np.mean(librosa.feature.mfcc(y=X, sr=sample_rate, n_mfcc=13),axis=0)\r\n",
    "    featurelive = mfccs\r\n",
    "    livedf2 = featurelive\r\n",
    "    livedf2= pd.DataFrame(data=livedf2)\r\n",
    "    livedf2 = livedf2.stack().to_frame().T\r\n",
    "    twodim= np.expand_dims(livedf2, axis=2)\r\n",
    "\r\n",
    "\r\n",
    "\r\n",
    "    prediction = model.predict(twodim)\r\n",
    "    livepredictions = (encoder.inverse_transform((prediction)))\r\n",
    "\r\n",
    "    return render_template('index.html', prediction_text='OUTPUT IS {}'.format(livepredictions))\r\n"
   ]
  },
  {
   "cell_type": "code",
   "execution_count": 37,
   "metadata": {},
   "outputs": [],
   "source": [
    "@app.route('/results',methods=['POST'])\r\n",
    "def results():\r\n",
    "    data = request.get_json(force=True)\r\n",
    "    prediction = model.predict(data.values())\r\n",
    "    \r\n",
    "    return jsonify(prediction)"
   ]
  },
  {
   "cell_type": "code",
   "execution_count": 38,
   "metadata": {},
   "outputs": [
    {
     "name": "stdout",
     "output_type": "stream",
     "text": [
      " * Serving Flask app \"__main__\" (lazy loading)\n",
      " * Environment: production\n",
      "   WARNING: This is a development server. Do not use it in a production deployment.\n",
      "   Use a production WSGI server instead.\n",
      " * Debug mode: on\n"
     ]
    },
    {
     "name": "stderr",
     "output_type": "stream",
     "text": [
      " * Running on http://127.0.0.1:5000/ (Press CTRL+C to quit)\n",
      "127.0.0.1 - - [30/Jul/2021 17:57:00] \"\u001b[37mGET / HTTP/1.1\u001b[0m\" 200 -\n"
     ]
    },
    {
     "name": "stdout",
     "output_type": "stream",
     "text": [
      "WARNING:tensorflow:Model was constructed with shape (None, 20, 1) for input KerasTensor(type_spec=TensorSpec(shape=(None, 20, 1), dtype=tf.float32, name='conv1d_3_input'), name='conv1d_3_input', description=\"created by layer 'conv1d_3_input'\"), but it was called on an input with incompatible shape (None, 216, 1).\n"
     ]
    },
    {
     "name": "stderr",
     "output_type": "stream",
     "text": [
      "127.0.0.1 - - [30/Jul/2021 17:57:16] \"\u001b[37mPOST /predict_ HTTP/1.1\u001b[0m\" 200 -\n",
      "127.0.0.1 - - [30/Jul/2021 17:58:15] \"\u001b[37mPOST /predict_ HTTP/1.1\u001b[0m\" 200 -\n",
      "C:\\Users\\This PC\\anaconda3\\lib\\site-packages\\librosa\\core\\audio.py:165: UserWarning: PySoundFile failed. Trying audioread instead.\n",
      "  warnings.warn(\"PySoundFile failed. Trying audioread instead.\")\n",
      "127.0.0.1 - - [30/Jul/2021 17:58:19] \"\u001b[35m\u001b[1mPOST /predict_ HTTP/1.1\u001b[0m\" 500 -\n",
      "Traceback (most recent call last):\n",
      "  File \"C:\\Users\\This PC\\anaconda3\\Lib\\site-packages\\librosa\\core\\audio.py\", line 149, in load\n",
      "    with sf.SoundFile(path) as sf_desc:\n",
      "  File \"C:\\Users\\This PC\\anaconda3\\Lib\\site-packages\\soundfile.py\", line 629, in __init__\n",
      "    self._file = self._open(file, mode_int, closefd)\n",
      "  File \"C:\\Users\\This PC\\anaconda3\\Lib\\site-packages\\soundfile.py\", line 1183, in _open\n",
      "    _error_check(_snd.sf_error(file_ptr),\n",
      "  File \"C:\\Users\\This PC\\anaconda3\\Lib\\site-packages\\soundfile.py\", line 1357, in _error_check\n",
      "    raise RuntimeError(prefix + _ffi.string(err_str).decode('utf-8', 'replace'))\n",
      "RuntimeError: Error opening '58675': File contains data in an unknown format.\n",
      "\n",
      "During handling of the above exception, another exception occurred:\n",
      "\n",
      "Traceback (most recent call last):\n",
      "  File \"C:\\Users\\This PC\\anaconda3\\Lib\\site-packages\\flask\\app.py\", line 2464, in __call__\n",
      "    return self.wsgi_app(environ, start_response)\n",
      "  File \"C:\\Users\\This PC\\anaconda3\\Lib\\site-packages\\flask\\app.py\", line 2450, in wsgi_app\n",
      "    response = self.handle_exception(e)\n",
      "  File \"C:\\Users\\This PC\\anaconda3\\Lib\\site-packages\\flask\\app.py\", line 1867, in handle_exception\n",
      "    reraise(exc_type, exc_value, tb)\n",
      "  File \"C:\\Users\\This PC\\anaconda3\\Lib\\site-packages\\flask\\_compat.py\", line 39, in reraise\n",
      "    raise value\n",
      "  File \"C:\\Users\\This PC\\anaconda3\\Lib\\site-packages\\flask\\app.py\", line 2447, in wsgi_app\n",
      "    response = self.full_dispatch_request()\n",
      "  File \"C:\\Users\\This PC\\anaconda3\\Lib\\site-packages\\flask\\app.py\", line 1952, in full_dispatch_request\n",
      "    rv = self.handle_user_exception(e)\n",
      "  File \"C:\\Users\\This PC\\anaconda3\\Lib\\site-packages\\flask\\app.py\", line 1821, in handle_user_exception\n",
      "    reraise(exc_type, exc_value, tb)\n",
      "  File \"C:\\Users\\This PC\\anaconda3\\Lib\\site-packages\\flask\\_compat.py\", line 39, in reraise\n",
      "    raise value\n",
      "  File \"C:\\Users\\This PC\\anaconda3\\Lib\\site-packages\\flask\\app.py\", line 1950, in full_dispatch_request\n",
      "    rv = self.dispatch_request()\n",
      "  File \"C:\\Users\\This PC\\anaconda3\\Lib\\site-packages\\flask\\app.py\", line 1936, in dispatch_request\n",
      "    return self.view_functions[rule.endpoint](**req.view_args)\n",
      "  File \"<ipython-input-36-7b875db20326>\", line 14, in predict_\n",
      "    \n",
      "  File \"C:\\Users\\This PC\\anaconda3\\Lib\\site-packages\\librosa\\core\\audio.py\", line 166, in load\n",
      "    y, sr_native = __audioread_load(path, offset, duration, dtype)\n",
      "  File \"C:\\Users\\This PC\\anaconda3\\Lib\\site-packages\\librosa\\core\\audio.py\", line 190, in __audioread_load\n",
      "    with audioread.audio_open(path) as input_file:\n",
      "  File \"C:\\Users\\This PC\\anaconda3\\Lib\\site-packages\\audioread\\__init__.py\", line 111, in audio_open\n",
      "    return BackendClass(path)\n",
      "  File \"C:\\Users\\This PC\\anaconda3\\Lib\\site-packages\\audioread\\rawread.py\", line 65, in __init__\n",
      "    self._file = aifc.open(self._fh)\n",
      "  File \"C:\\Users\\This PC\\anaconda3\\Lib\\aifc.py\", line 917, in open\n",
      "    return Aifc_read(f)\n",
      "  File \"C:\\Users\\This PC\\anaconda3\\Lib\\aifc.py\", line 358, in __init__\n",
      "    self.initfp(f)\n",
      "  File \"C:\\Users\\This PC\\anaconda3\\Lib\\aifc.py\", line 314, in initfp\n",
      "    chunk = Chunk(file)\n",
      "  File \"C:\\Users\\This PC\\anaconda3\\Lib\\chunk.py\", line 63, in __init__\n",
      "    raise EOFError\n",
      "EOFError\n",
      "127.0.0.1 - - [30/Jul/2021 17:58:19] \"\u001b[37mGET /predict_?__debugger__=yes&cmd=resource&f=style.css HTTP/1.1\u001b[0m\" 200 -\n",
      "127.0.0.1 - - [30/Jul/2021 17:58:19] \"\u001b[37mGET /predict_?__debugger__=yes&cmd=resource&f=jquery.js HTTP/1.1\u001b[0m\" 200 -\n",
      "127.0.0.1 - - [30/Jul/2021 17:58:19] \"\u001b[37mGET /predict_?__debugger__=yes&cmd=resource&f=debugger.js HTTP/1.1\u001b[0m\" 200 -\n",
      "127.0.0.1 - - [30/Jul/2021 17:58:20] \"\u001b[37mGET /predict_?__debugger__=yes&cmd=resource&f=console.png HTTP/1.1\u001b[0m\" 200 -\n",
      "127.0.0.1 - - [30/Jul/2021 17:58:20] \"\u001b[37mGET /predict_?__debugger__=yes&cmd=resource&f=ubuntu.ttf HTTP/1.1\u001b[0m\" 200 -\n",
      "127.0.0.1 - - [30/Jul/2021 17:58:20] \"\u001b[37mGET /predict_?__debugger__=yes&cmd=resource&f=console.png HTTP/1.1\u001b[0m\" 200 -\n",
      "127.0.0.1 - - [30/Jul/2021 17:58:42] \"\u001b[37mPOST /predict_ HTTP/1.1\u001b[0m\" 200 -\n",
      "127.0.0.1 - - [30/Jul/2021 17:58:54] \"\u001b[37mPOST /predict_ HTTP/1.1\u001b[0m\" 200 -\n"
     ]
    }
   ],
   "source": [
    "if __name__ == \"__main__\":\r\n",
    "    app.run(debug=True,use_reloader=False)"
   ]
  }
 ],
 "metadata": {
  "kernelspec": {
   "display_name": "Python 3.8.5 64-bit ('base': conda)",
   "name": "python385jvsc74a57bd075d5fa5647ed718dff6db6e19cb5826cae172c65e0d9788c078b693ea2246e0d"
  },
  "language_info": {
   "codemirror_mode": {
    "name": "ipython",
    "version": 3
   },
   "file_extension": ".py",
   "mimetype": "text/x-python",
   "name": "python",
   "nbconvert_exporter": "python",
   "pygments_lexer": "ipython3",
   "version": "3.8.5"
  },
  "metadata": {
   "interpreter": {
    "hash": "75d5fa5647ed718dff6db6e19cb5826cae172c65e0d9788c078b693ea2246e0d"
   }
  },
  "orig_nbformat": 2
 },
 "nbformat": 4,
 "nbformat_minor": 2
}